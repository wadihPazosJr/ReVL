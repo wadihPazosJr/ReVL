{
 "cells": [
  {
   "cell_type": "code",
   "execution_count": 1,
   "metadata": {},
   "outputs": [],
   "source": [
    "import pandas as pd\n",
    "import os\n",
    "from PIL import Image"
   ]
  },
  {
   "cell_type": "code",
   "execution_count": 2,
   "metadata": {},
   "outputs": [
    {
     "data": {
      "text/html": [
       "<div>\n",
       "<style scoped>\n",
       "    .dataframe tbody tr th:only-of-type {\n",
       "        vertical-align: middle;\n",
       "    }\n",
       "\n",
       "    .dataframe tbody tr th {\n",
       "        vertical-align: top;\n",
       "    }\n",
       "\n",
       "    .dataframe thead th {\n",
       "        text-align: right;\n",
       "    }\n",
       "</style>\n",
       "<table border=\"1\" class=\"dataframe\">\n",
       "  <thead>\n",
       "    <tr style=\"text-align: right;\">\n",
       "      <th></th>\n",
       "      <th>img_filename</th>\n",
       "      <th>url</th>\n",
       "      <th>elements</th>\n",
       "    </tr>\n",
       "  </thead>\n",
       "  <tbody>\n",
       "    <tr>\n",
       "      <th>0</th>\n",
       "      <td>e4469ac844e851b42167f303c8c9278e.png</td>\n",
       "      <td>https://lunaweddingandeventsupplies.com.au/pro...</td>\n",
       "      <td>[{'instruction': 'Product description', 'bbox'...</td>\n",
       "    </tr>\n",
       "  </tbody>\n",
       "</table>\n",
       "</div>"
      ],
      "text/plain": [
       "                           img_filename  \\\n",
       "0  e4469ac844e851b42167f303c8c9278e.png   \n",
       "\n",
       "                                                 url  \\\n",
       "0  https://lunaweddingandeventsupplies.com.au/pro...   \n",
       "\n",
       "                                            elements  \n",
       "0  [{'instruction': 'Product description', 'bbox'...  "
      ]
     },
     "execution_count": 2,
     "metadata": {},
     "output_type": "execute_result"
    }
   ],
   "source": [
    "df = pd.read_json('../training_data/seeclick_web.json')\n",
    "df.head(1)"
   ]
  },
  {
   "cell_type": "code",
   "execution_count": 3,
   "metadata": {},
   "outputs": [
    {
     "data": {
      "text/plain": [
       "(Index(['img_filename', 'url', 'elements'], dtype='object'),\n",
       " img_filename    object\n",
       " url             object\n",
       " elements        object\n",
       " dtype: object)"
      ]
     },
     "execution_count": 3,
     "metadata": {},
     "output_type": "execute_result"
    }
   ],
   "source": [
    "df.columns, df.dtypes"
   ]
  },
  {
   "cell_type": "code",
   "execution_count": 4,
   "metadata": {},
   "outputs": [
    {
     "data": {
      "text/plain": [
       "10000"
      ]
     },
     "execution_count": 4,
     "metadata": {},
     "output_type": "execute_result"
    }
   ],
   "source": [
    "image_names = set(os.listdir('../training_data/cpfs01/user/chengkanzhi/seeclick_web_imgs_part/'))\n",
    "df = df[df['img_filename'].isin(image_names)]\n",
    "len(df)"
   ]
  },
  {
   "cell_type": "code",
   "execution_count": 5,
   "metadata": {},
   "outputs": [
    {
     "name": "stdout",
     "output_type": "stream",
     "text": [
      "10000\n"
     ]
    }
   ],
   "source": [
    "print(len(df))\n",
    "df = df.explode('elements').reset_index(drop=True)\n",
    "\n",
    "df['instruction'] = df['elements'].apply(lambda x: x['instruction'])\n",
    "df['bbox'] = df['elements'].apply(lambda x: x['bbox'])"
   ]
  },
  {
   "cell_type": "code",
   "execution_count": 7,
   "metadata": {},
   "outputs": [
    {
     "data": {
      "text/html": [
       "<div>\n",
       "<style scoped>\n",
       "    .dataframe tbody tr th:only-of-type {\n",
       "        vertical-align: middle;\n",
       "    }\n",
       "\n",
       "    .dataframe tbody tr th {\n",
       "        vertical-align: top;\n",
       "    }\n",
       "\n",
       "    .dataframe thead th {\n",
       "        text-align: right;\n",
       "    }\n",
       "</style>\n",
       "<table border=\"1\" class=\"dataframe\">\n",
       "  <thead>\n",
       "    <tr style=\"text-align: right;\">\n",
       "      <th></th>\n",
       "      <th>img_filename</th>\n",
       "      <th>instruction</th>\n",
       "      <th>bbox</th>\n",
       "    </tr>\n",
       "  </thead>\n",
       "  <tbody>\n",
       "    <tr>\n",
       "      <th>0</th>\n",
       "      <td>b1072ebd95d94a714a204ad0a44c2cb0.png</td>\n",
       "      <td>Composers -- Western Australia.</td>\n",
       "      <td>[0.1125, 0.810185185185185, 0.202604166666666,...</td>\n",
       "    </tr>\n",
       "    <tr>\n",
       "      <th>1</th>\n",
       "      <td>b1072ebd95d94a714a204ad0a44c2cb0.png</td>\n",
       "      <td>InterLibrary Loan</td>\n",
       "      <td>[0.7187500000000001, 0.28518518518518504, 0.76...</td>\n",
       "    </tr>\n",
       "  </tbody>\n",
       "</table>\n",
       "</div>"
      ],
      "text/plain": [
       "                           img_filename                      instruction  \\\n",
       "0  b1072ebd95d94a714a204ad0a44c2cb0.png  Composers -- Western Australia.   \n",
       "1  b1072ebd95d94a714a204ad0a44c2cb0.png                InterLibrary Loan   \n",
       "\n",
       "                                                bbox  \n",
       "0  [0.1125, 0.810185185185185, 0.202604166666666,...  \n",
       "1  [0.7187500000000001, 0.28518518518518504, 0.76...  "
      ]
     },
     "execution_count": 7,
     "metadata": {},
     "output_type": "execute_result"
    }
   ],
   "source": [
    "df.drop(columns=['url', 'elements'], inplace=True)\n",
    "df.head(2)"
   ]
  },
  {
   "cell_type": "code",
   "execution_count": 8,
   "metadata": {},
   "outputs": [
    {
     "data": {
      "text/plain": [
       "113142"
      ]
     },
     "execution_count": 8,
     "metadata": {},
     "output_type": "execute_result"
    }
   ],
   "source": [
    "len(df)"
   ]
  },
  {
   "cell_type": "code",
   "execution_count": null,
   "metadata": {},
   "outputs": [],
   "source": [
    "def get_quadrant(image, quadrant_idx):\n",
    "    width, height = image.size\n",
    "    if quadrant_idx == 0:  # Top-left\n",
    "        return image.crop((0, 0, width // 2, height // 2))\n",
    "    elif quadrant_idx == 1:  # Top-right\n",
    "        return image.crop((width // 2, 0, width, height // 2))\n",
    "    elif quadrant_idx == 2:  # Bottom-left\n",
    "        return image.crop((0, height // 2, width // 2, height))\n",
    "    elif quadrant_idx == 3:  # Bottom-right\n",
    "        return image.crop((width // 2, height // 2, width, height))"
   ]
  },
  {
   "cell_type": "code",
   "execution_count": 9,
   "metadata": {},
   "outputs": [
    {
     "data": {
      "text/html": [
       "<div>\n",
       "<style scoped>\n",
       "    .dataframe tbody tr th:only-of-type {\n",
       "        vertical-align: middle;\n",
       "    }\n",
       "\n",
       "    .dataframe tbody tr th {\n",
       "        vertical-align: top;\n",
       "    }\n",
       "\n",
       "    .dataframe thead th {\n",
       "        text-align: right;\n",
       "    }\n",
       "</style>\n",
       "<table border=\"1\" class=\"dataframe\">\n",
       "  <thead>\n",
       "    <tr style=\"text-align: right;\">\n",
       "      <th></th>\n",
       "      <th>img_filename</th>\n",
       "      <th>instruction</th>\n",
       "      <th>crop</th>\n",
       "      <th>quadrant</th>\n",
       "      <th>point</th>\n",
       "      <th>k</th>\n",
       "    </tr>\n",
       "  </thead>\n",
       "  <tbody>\n",
       "    <tr>\n",
       "      <th>0</th>\n",
       "      <td>b1072ebd95d94a714a204ad0a44c2cb0.png</td>\n",
       "      <td>Composers -- Western Australia.</td>\n",
       "      <td>[0, 0, 1920, 1080]</td>\n",
       "      <td>1</td>\n",
       "      <td>(0.157552083333333, 0.8166666666666665)</td>\n",
       "      <td>1</td>\n",
       "    </tr>\n",
       "    <tr>\n",
       "      <th>1</th>\n",
       "      <td>b1072ebd95d94a714a204ad0a44c2cb0.png</td>\n",
       "      <td>Composers -- Western Australia.</td>\n",
       "      <td>(0, 0, 960.0, 540.0)</td>\n",
       "      <td>1</td>\n",
       "      <td>(0.157552083333333, 0.8166666666666665)</td>\n",
       "      <td>2</td>\n",
       "    </tr>\n",
       "    <tr>\n",
       "      <th>2</th>\n",
       "      <td>b1072ebd95d94a714a204ad0a44c2cb0.png</td>\n",
       "      <td>Composers -- Western Australia.</td>\n",
       "      <td>(0, 0, 960.0, 540.0)</td>\n",
       "      <td>1</td>\n",
       "      <td>(0.157552083333333, 0.8166666666666665)</td>\n",
       "      <td>3</td>\n",
       "    </tr>\n",
       "    <tr>\n",
       "      <th>3</th>\n",
       "      <td>b1072ebd95d94a714a204ad0a44c2cb0.png</td>\n",
       "      <td>InterLibrary Loan</td>\n",
       "      <td>[0, 0, 1920, 1080]</td>\n",
       "      <td>1</td>\n",
       "      <td>(0.74140625, 0.2907407407407405)</td>\n",
       "      <td>1</td>\n",
       "    </tr>\n",
       "    <tr>\n",
       "      <th>4</th>\n",
       "      <td>b1072ebd95d94a714a204ad0a44c2cb0.png</td>\n",
       "      <td>InterLibrary Loan</td>\n",
       "      <td>(0, 0, 960.0, 540.0)</td>\n",
       "      <td>1</td>\n",
       "      <td>(0.74140625, 0.2907407407407405)</td>\n",
       "      <td>2</td>\n",
       "    </tr>\n",
       "    <tr>\n",
       "      <th>5</th>\n",
       "      <td>b1072ebd95d94a714a204ad0a44c2cb0.png</td>\n",
       "      <td>InterLibrary Loan</td>\n",
       "      <td>(0, 0, 960.0, 540.0)</td>\n",
       "      <td>1</td>\n",
       "      <td>(0.74140625, 0.2907407407407405)</td>\n",
       "      <td>3</td>\n",
       "    </tr>\n",
       "    <tr>\n",
       "      <th>6</th>\n",
       "      <td>b1072ebd95d94a714a204ad0a44c2cb0.png</td>\n",
       "      <td>Bookmark link for this record</td>\n",
       "      <td>[0, 0, 1920, 1080]</td>\n",
       "      <td>1</td>\n",
       "      <td>(0.5882812499999995, 0.30000000000000004)</td>\n",
       "      <td>1</td>\n",
       "    </tr>\n",
       "    <tr>\n",
       "      <th>7</th>\n",
       "      <td>b1072ebd95d94a714a204ad0a44c2cb0.png</td>\n",
       "      <td>Bookmark link for this record</td>\n",
       "      <td>(0, 0, 960.0, 540.0)</td>\n",
       "      <td>1</td>\n",
       "      <td>(0.5882812499999995, 0.30000000000000004)</td>\n",
       "      <td>2</td>\n",
       "    </tr>\n",
       "    <tr>\n",
       "      <th>8</th>\n",
       "      <td>b1072ebd95d94a714a204ad0a44c2cb0.png</td>\n",
       "      <td>Bookmark link for this record</td>\n",
       "      <td>(0, 0, 960.0, 540.0)</td>\n",
       "      <td>1</td>\n",
       "      <td>(0.5882812499999995, 0.30000000000000004)</td>\n",
       "      <td>3</td>\n",
       "    </tr>\n",
       "    <tr>\n",
       "      <th>9</th>\n",
       "      <td>b1072ebd95d94a714a204ad0a44c2cb0.png</td>\n",
       "      <td>Author</td>\n",
       "      <td>[0, 0, 1920, 1080]</td>\n",
       "      <td>1</td>\n",
       "      <td>(0.889583333333333, 0.2240740740740735)</td>\n",
       "      <td>1</td>\n",
       "    </tr>\n",
       "  </tbody>\n",
       "</table>\n",
       "</div>"
      ],
      "text/plain": [
       "                           img_filename                      instruction  \\\n",
       "0  b1072ebd95d94a714a204ad0a44c2cb0.png  Composers -- Western Australia.   \n",
       "1  b1072ebd95d94a714a204ad0a44c2cb0.png  Composers -- Western Australia.   \n",
       "2  b1072ebd95d94a714a204ad0a44c2cb0.png  Composers -- Western Australia.   \n",
       "3  b1072ebd95d94a714a204ad0a44c2cb0.png                InterLibrary Loan   \n",
       "4  b1072ebd95d94a714a204ad0a44c2cb0.png                InterLibrary Loan   \n",
       "5  b1072ebd95d94a714a204ad0a44c2cb0.png                InterLibrary Loan   \n",
       "6  b1072ebd95d94a714a204ad0a44c2cb0.png    Bookmark link for this record   \n",
       "7  b1072ebd95d94a714a204ad0a44c2cb0.png    Bookmark link for this record   \n",
       "8  b1072ebd95d94a714a204ad0a44c2cb0.png    Bookmark link for this record   \n",
       "9  b1072ebd95d94a714a204ad0a44c2cb0.png                           Author   \n",
       "\n",
       "                   crop  quadrant                                      point  \\\n",
       "0    [0, 0, 1920, 1080]         1    (0.157552083333333, 0.8166666666666665)   \n",
       "1  (0, 0, 960.0, 540.0)         1    (0.157552083333333, 0.8166666666666665)   \n",
       "2  (0, 0, 960.0, 540.0)         1    (0.157552083333333, 0.8166666666666665)   \n",
       "3    [0, 0, 1920, 1080]         1           (0.74140625, 0.2907407407407405)   \n",
       "4  (0, 0, 960.0, 540.0)         1           (0.74140625, 0.2907407407407405)   \n",
       "5  (0, 0, 960.0, 540.0)         1           (0.74140625, 0.2907407407407405)   \n",
       "6    [0, 0, 1920, 1080]         1  (0.5882812499999995, 0.30000000000000004)   \n",
       "7  (0, 0, 960.0, 540.0)         1  (0.5882812499999995, 0.30000000000000004)   \n",
       "8  (0, 0, 960.0, 540.0)         1  (0.5882812499999995, 0.30000000000000004)   \n",
       "9    [0, 0, 1920, 1080]         1    (0.889583333333333, 0.2240740740740735)   \n",
       "\n",
       "   k  \n",
       "0  1  \n",
       "1  2  \n",
       "2  3  \n",
       "3  1  \n",
       "4  2  \n",
       "5  3  \n",
       "6  1  \n",
       "7  2  \n",
       "8  3  \n",
       "9  1  "
      ]
     },
     "execution_count": 9,
     "metadata": {},
     "output_type": "execute_result"
    }
   ],
   "source": [
    "def create_new_points(row, k=4):\n",
    "    img = Image.open(f'../training_data/cpfs01/user/chengkanzhi/seeclick_web_imgs_part/{row[\"img_filename\"]}')\n",
    "    w, h = img.size\n",
    "    bbox = row['bbox']\n",
    "    instruction = row['instruction']\n",
    "    file_name = row['img_filename']\n",
    "    x1, y1, x2, y2 = bbox\n",
    "    x, y = (x1 + x2) / 2, (y1 + y2) / 2\n",
    "    x, y = x*w, y*h\n",
    "    return_val = []\n",
    "    img_crop = [0, 0, w, h]\n",
    "    for i in range(1, k):\n",
    "        w, h = img.size\n",
    "        mid_w, mid_h = w / 2, h / 2\n",
    "        new_x, new_y = x, y\n",
    "        new_crop = img_crop\n",
    "        # Determine the quadrant and adjust the bounds\n",
    "        if x < mid_w and y < mid_h:  # Quadrant 1\n",
    "            quadrant = 1\n",
    "            new_crop = (0, 0, mid_w, mid_h)\n",
    "        elif x >= mid_w and y < mid_h:  # Quadrant 2\n",
    "            quadrant = 2\n",
    "            new_crop = (mid_w, 0, w, mid_h)\n",
    "            new_x -= mid_w  # Adjust x relative to the new image bounds\n",
    "        elif x < mid_w and y >= mid_h:  # Quadrant 3\n",
    "            quadrant = 3\n",
    "            new_crop = (0, mid_h, mid_w, h)\n",
    "            new_y -= mid_h  # Adjust y relative to the new image bounds\n",
    "        else:  # x >= mid_w and y >= mid_h, Quadrant 4\n",
    "            quadrant = 4\n",
    "            new_crop = (mid_w, mid_h, w, h)\n",
    "            new_x -= mid_w  # Adjust x relative to the new image bounds\n",
    "            new_y -= mid_h  # Adjust y relative to the new image bounds\n",
    "    \n",
    "        new_point = (file_name, instruction, img_crop, quadrant, (x, y), i)\n",
    "        return_val.append(new_point)\n",
    "        img_crop = new_crop\n",
    "        img = img.crop(new_crop)\n",
    "        x, y = new_x, new_y\n",
    "\n",
    "    return return_val\n",
    "\n",
    "\n",
    "\n",
    "new_points = []\n",
    "for _, row in df.iterrows():\n",
    "    new_points.extend(create_new_points(row))\n",
    "    \n",
    "\n",
    "df = pd.DataFrame(new_points, columns=['img_filename', 'instruction', 'crop', 'quadrant', 'point', 'k'])\n",
    "df.head(10)"
   ]
  },
  {
   "cell_type": "code",
   "execution_count": null,
   "metadata": {},
   "outputs": [],
   "source": [
    "df.to_parquet(\n",
    "    'data.parquet', snappy=True\n",
    ")"
   ]
  }
 ],
 "metadata": {
  "kernelspec": {
   "display_name": "Python 3",
   "language": "python",
   "name": "python3"
  },
  "language_info": {
   "codemirror_mode": {
    "name": "ipython",
    "version": 3
   },
   "file_extension": ".py",
   "mimetype": "text/x-python",
   "name": "python",
   "nbconvert_exporter": "python",
   "pygments_lexer": "ipython3",
   "version": "3.11.6"
  }
 },
 "nbformat": 4,
 "nbformat_minor": 2
}
